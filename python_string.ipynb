{
 "cells": [
  {
   "cell_type": "code",
   "execution_count": 13,
   "metadata": {},
   "outputs": [
    {
     "name": "stdout",
     "output_type": "stream",
     "text": [
      "hey \n",
      "1\n",
      "HEY\n",
      "hey \n",
      "REY \n",
      "['p', 'thon']\n"
     ]
    }
   ],
   "source": [
    "#Assignment1 - String function\n",
    "str1 = 'HEY '\n",
    "str2 = 'python'\n",
    "print(str1.casefold())#use to convert the string into lowecase\n",
    "print(str2.count('p'))#count the occurence of particular character or string\n",
    "print(str1.strip())#trimmimg the spaces we can use lstrip and rstrip also\n",
    "#why we have to use two samw working function..\n",
    "print(str1.lower())\n",
    "print(str1.replace('H','R'))#replacing the word\n",
    "print(str2.split('y'))#split with the particular keyword"
   ]
  },
  {
   "cell_type": "code",
   "execution_count": 16,
   "metadata": {},
   "outputs": [
    {
     "name": "stdout",
     "output_type": "stream",
     "text": [
      "Condition Pass\n"
     ]
    }
   ],
   "source": [
    "#Assignment2 - To check whether 'to' is present in  a particular string or not\n",
    "str1 = 'Welcome to Python'\n",
    "#to achieve this solution we can use the keyword called 'in'\n",
    "\n",
    "validate = ('to' in str1)\n",
    "if validate == True:\n",
    "    print('Condition Pass')\n",
    "else:\n",
    "    print('condition fail')\n"
   ]
  }
 ],
 "metadata": {
  "kernelspec": {
   "display_name": "Python 3",
   "language": "python",
   "name": "python3"
  },
  "language_info": {
   "codemirror_mode": {
    "name": "ipython",
    "version": 3
   },
   "file_extension": ".py",
   "mimetype": "text/x-python",
   "name": "python",
   "nbconvert_exporter": "python",
   "pygments_lexer": "ipython3",
   "version": "3.6.8"
  },
  "toc": {
   "base_numbering": 1,
   "nav_menu": {},
   "number_sections": true,
   "sideBar": true,
   "skip_h1_title": false,
   "title_cell": "Table of Contents",
   "title_sidebar": "Contents",
   "toc_cell": false,
   "toc_position": {},
   "toc_section_display": true,
   "toc_window_display": false
  }
 },
 "nbformat": 4,
 "nbformat_minor": 2
}
