{
 "cells": [
  {
   "cell_type": "markdown",
   "metadata": {},
   "source": [
    "List Assignment"
   ]
  },
  {
   "cell_type": "code",
   "execution_count": 92,
   "metadata": {},
   "outputs": [
    {
     "name": "stdout",
     "output_type": "stream",
     "text": [
      "Before clearing the list:[1, 2.5, 'Harry', True]\n",
      "After clearing the list:[1, 2.5, 'Harry', True]\n",
      "[0, 1, 3, 4, 7, 33]\n",
      "[True, 'Harry', 2.5, 1]\n"
     ]
    }
   ],
   "source": [
    "#Assignmenmt3-Go through other inbuilt methods like remove(),count(),clear(),sort(),reverse()\n",
    "list1 = [1,2,2.5,'Harry',True]\n",
    "list2 = [1,3,33,0,4,7]\n",
    "list1.remove(2)\n",
    "\n",
    "list1.count(5)#count the total time the particular element is present...return 0 if none of that value is present\n",
    "print(\"Before clearing the list:{}\".format(list1))\n",
    "\n",
    "#list1.clear()\n",
    "print(\"After clearing the list:{}\".format(list1))\n",
    "\n",
    "list2.sort()#it will work with the same type of data\n",
    "print(list2)\n",
    "\n",
    "list1.reverse()#It will reverse the listing of elements\n",
    "print(list1)"
   ]
  },
  {
   "cell_type": "code",
   "execution_count": 76,
   "metadata": {
    "code_folding": [],
    "scrolled": true
   },
   "outputs": [
    {
     "name": "stdout",
     "output_type": "stream",
     "text": [
      "[1, 2, [3, 4, 5, 6, [7, 8]], 9]\n"
     ]
    }
   ],
   "source": [
    "#Assignment4.1 - Add sublist(list2)\n",
    "input_list = [1,2,[3,4,5,6],9]\n",
    "list2 = [7,8]\n",
    "\n",
    "input_list[2].append(list2)\n",
    "print(input_list)"
   ]
  },
  {
   "cell_type": "code",
   "execution_count": 91,
   "metadata": {},
   "outputs": [
    {
     "name": "stdout",
     "output_type": "stream",
     "text": [
      "[10, 20, [30, 40, [50, 60, 70], 80], 90, 100]\n"
     ]
    }
   ],
   "source": [
    "#Assignment4.2 - Add item 70 after 60 in the following Python List\n",
    "#input\n",
    "l1 = [10, 20, [30, 40, [50, 60], 80], 90, 100]\n",
    "l2=70\n",
    "l1[2][2].append(l2)\n",
    "print(l1)"
   ]
  },
  {
   "cell_type": "code",
   "execution_count": null,
   "metadata": {},
   "outputs": [],
   "source": []
  },
  {
   "cell_type": "code",
   "execution_count": null,
   "metadata": {},
   "outputs": [],
   "source": []
  },
  {
   "cell_type": "code",
   "execution_count": null,
   "metadata": {},
   "outputs": [],
   "source": []
  },
  {
   "cell_type": "code",
   "execution_count": null,
   "metadata": {},
   "outputs": [],
   "source": []
  }
 ],
 "metadata": {
  "kernelspec": {
   "display_name": "Python 3",
   "language": "python",
   "name": "python3"
  },
  "language_info": {
   "codemirror_mode": {
    "name": "ipython",
    "version": 3
   },
   "file_extension": ".py",
   "mimetype": "text/x-python",
   "name": "python",
   "nbconvert_exporter": "python",
   "pygments_lexer": "ipython3",
   "version": "3.6.8"
  },
  "toc": {
   "base_numbering": 1,
   "nav_menu": {},
   "number_sections": true,
   "sideBar": true,
   "skip_h1_title": false,
   "title_cell": "Table of Contents",
   "title_sidebar": "Contents",
   "toc_cell": false,
   "toc_position": {},
   "toc_section_display": true,
   "toc_window_display": false
  }
 },
 "nbformat": 4,
 "nbformat_minor": 2
}
